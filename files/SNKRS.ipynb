{
 "cells": [
  {
   "cell_type": "code",
   "execution_count": 10,
   "id": "8a7e7b68",
   "metadata": {},
   "outputs": [],
   "source": [
    "import pandas as pd\n",
    "import matplotlib.pyplot as plt"
   ]
  },
  {
   "cell_type": "code",
   "execution_count": 65,
   "id": "f5ef6c02",
   "metadata": {},
   "outputs": [
    {
     "data": {
      "text/html": [
       "<div>\n",
       "<style scoped>\n",
       "    .dataframe tbody tr th:only-of-type {\n",
       "        vertical-align: middle;\n",
       "    }\n",
       "\n",
       "    .dataframe tbody tr th {\n",
       "        vertical-align: top;\n",
       "    }\n",
       "\n",
       "    .dataframe thead th {\n",
       "        text-align: right;\n",
       "    }\n",
       "</style>\n",
       "<table border=\"1\" class=\"dataframe\">\n",
       "  <thead>\n",
       "    <tr style=\"text-align: right;\">\n",
       "      <th></th>\n",
       "      <th>Model</th>\n",
       "      <th>Brand</th>\n",
       "      <th>Size</th>\n",
       "      <th>Colorway</th>\n",
       "      <th>Condition</th>\n",
       "      <th>Sold</th>\n",
       "      <th>Price Paid (CAD)</th>\n",
       "      <th>Current Val (CAD)</th>\n",
       "      <th>Profit</th>\n",
       "    </tr>\n",
       "  </thead>\n",
       "  <tbody>\n",
       "    <tr>\n",
       "      <th>0</th>\n",
       "      <td>Jordan 1</td>\n",
       "      <td>Nike x OW</td>\n",
       "      <td>US9</td>\n",
       "      <td>UNC</td>\n",
       "      <td>DS</td>\n",
       "      <td>Y</td>\n",
       "      <td>170.0</td>\n",
       "      <td>1500.0</td>\n",
       "      <td>1330.0</td>\n",
       "    </tr>\n",
       "    <tr>\n",
       "      <th>1</th>\n",
       "      <td>Jordan 1</td>\n",
       "      <td>Nike</td>\n",
       "      <td>US9</td>\n",
       "      <td>Turbo Green</td>\n",
       "      <td>DS</td>\n",
       "      <td>Y</td>\n",
       "      <td>170.0</td>\n",
       "      <td>380.0</td>\n",
       "      <td>210.0</td>\n",
       "    </tr>\n",
       "    <tr>\n",
       "      <th>2</th>\n",
       "      <td>Jordan 1</td>\n",
       "      <td>Nike x Nigel Sylvester</td>\n",
       "      <td>US9</td>\n",
       "      <td>Cream</td>\n",
       "      <td>DS</td>\n",
       "      <td>Y</td>\n",
       "      <td>170.0</td>\n",
       "      <td>380.0</td>\n",
       "      <td>210.0</td>\n",
       "    </tr>\n",
       "    <tr>\n",
       "      <th>3</th>\n",
       "      <td>LD Waffle</td>\n",
       "      <td>Nike X Sacai</td>\n",
       "      <td>US9</td>\n",
       "      <td>Blue</td>\n",
       "      <td>DS</td>\n",
       "      <td>Y</td>\n",
       "      <td>155.0</td>\n",
       "      <td>750.0</td>\n",
       "      <td>595.0</td>\n",
       "    </tr>\n",
       "    <tr>\n",
       "      <th>4</th>\n",
       "      <td>React Element 85</td>\n",
       "      <td>Nike X Unvercover</td>\n",
       "      <td>US9</td>\n",
       "      <td>Volt</td>\n",
       "      <td>DS</td>\n",
       "      <td>Y</td>\n",
       "      <td>180.0</td>\n",
       "      <td>410.0</td>\n",
       "      <td>230.0</td>\n",
       "    </tr>\n",
       "    <tr>\n",
       "      <th>5</th>\n",
       "      <td>React Element 85</td>\n",
       "      <td>Nike</td>\n",
       "      <td>US9</td>\n",
       "      <td>Sail</td>\n",
       "      <td>DS</td>\n",
       "      <td>Y</td>\n",
       "      <td>180.0</td>\n",
       "      <td>380.0</td>\n",
       "      <td>200.0</td>\n",
       "    </tr>\n",
       "    <tr>\n",
       "      <th>6</th>\n",
       "      <td>Presto Mid</td>\n",
       "      <td>Nike X ACRNYM</td>\n",
       "      <td>US9</td>\n",
       "      <td>Black</td>\n",
       "      <td>DS</td>\n",
       "      <td>Y</td>\n",
       "      <td>200.0</td>\n",
       "      <td>330.0</td>\n",
       "      <td>130.0</td>\n",
       "    </tr>\n",
       "    <tr>\n",
       "      <th>7</th>\n",
       "      <td>Yeezy 500</td>\n",
       "      <td>Adidas</td>\n",
       "      <td>US9.5</td>\n",
       "      <td>Black</td>\n",
       "      <td>DS</td>\n",
       "      <td>Y</td>\n",
       "      <td>200.0</td>\n",
       "      <td>350.0</td>\n",
       "      <td>150.0</td>\n",
       "    </tr>\n",
       "    <tr>\n",
       "      <th>8</th>\n",
       "      <td>AF-1</td>\n",
       "      <td>Nike X OW</td>\n",
       "      <td>US9</td>\n",
       "      <td>Volt</td>\n",
       "      <td>DS</td>\n",
       "      <td>N</td>\n",
       "      <td>170.0</td>\n",
       "      <td>1100.0</td>\n",
       "      <td>930.0</td>\n",
       "    </tr>\n",
       "    <tr>\n",
       "      <th>9</th>\n",
       "      <td>Blazer Mid</td>\n",
       "      <td>Nike X OW</td>\n",
       "      <td>US9</td>\n",
       "      <td>Vanilla</td>\n",
       "      <td>DS</td>\n",
       "      <td>N</td>\n",
       "      <td>700.0</td>\n",
       "      <td>775.0</td>\n",
       "      <td>75.0</td>\n",
       "    </tr>\n",
       "  </tbody>\n",
       "</table>\n",
       "</div>"
      ],
      "text/plain": [
       "              Model                   Brand   Size     Colorway Condition  \\\n",
       "0          Jordan 1               Nike x OW    US9          UNC        DS   \n",
       "1          Jordan 1                    Nike    US9  Turbo Green        DS   \n",
       "2          Jordan 1  Nike x Nigel Sylvester    US9        Cream        DS   \n",
       "3         LD Waffle            Nike X Sacai    US9         Blue        DS   \n",
       "4  React Element 85       Nike X Unvercover    US9         Volt        DS   \n",
       "5  React Element 85                    Nike    US9         Sail        DS   \n",
       "6        Presto Mid           Nike X ACRNYM    US9        Black        DS   \n",
       "7         Yeezy 500                  Adidas  US9.5        Black        DS   \n",
       "8              AF-1               Nike X OW    US9         Volt        DS   \n",
       "9        Blazer Mid               Nike X OW    US9      Vanilla        DS   \n",
       "\n",
       "  Sold  Price Paid (CAD)  Current Val (CAD)  Profit  \n",
       "0    Y             170.0             1500.0  1330.0  \n",
       "1    Y             170.0              380.0   210.0  \n",
       "2    Y             170.0              380.0   210.0  \n",
       "3    Y             155.0              750.0   595.0  \n",
       "4    Y             180.0              410.0   230.0  \n",
       "5    Y             180.0              380.0   200.0  \n",
       "6    Y             200.0              330.0   130.0  \n",
       "7    Y             200.0              350.0   150.0  \n",
       "8    N             170.0             1100.0   930.0  \n",
       "9    N             700.0              775.0    75.0  "
      ]
     },
     "execution_count": 65,
     "metadata": {},
     "output_type": "execute_result"
    }
   ],
   "source": [
    "my_snkrs = pd.read_csv(\"SneakerStocks.csv\")\n",
    "my_snkrs = my_snkrs[:-2]\n",
    "my_snkrs.head(10)"
   ]
  },
  {
   "cell_type": "code",
   "execution_count": 59,
   "id": "8bdbb197",
   "metadata": {},
   "outputs": [
    {
     "name": "stdout",
     "output_type": "stream",
     "text": [
      "0     1330.0\n",
      "1      210.0\n",
      "2      210.0\n",
      "3      595.0\n",
      "4      230.0\n",
      "5      200.0\n",
      "6      130.0\n",
      "7      150.0\n",
      "8      930.0\n",
      "9       75.0\n",
      "10     720.0\n",
      "Name: Profit, dtype: float64\n"
     ]
    }
   ],
   "source": [
    "print(my_snkrs.loc[:10, \"Profit\"])"
   ]
  },
  {
   "cell_type": "code",
   "execution_count": 79,
   "id": "50788f1f",
   "metadata": {},
   "outputs": [
    {
     "data": {
      "image/png": "[encoded data removed]",
      "text/plain": [
       "<Figure size 432x288 with 1 Axes>"
      ]
     },
     "metadata": {
      "needs_background": "light"
     },
     "output_type": "display_data"
    }
   ],
   "source": [
    "paid = my_snkrs['Price Paid (CAD)']\n",
    "val = my_snkrs['Current Val (CAD)']\n",
    "idx = my_snkrs['Brand'] + my_snkrs['Model']\n",
    "df = pd.DataFrame({'Paid': my_snkrs['Price Paid (CAD)'],\n",
    "                  'val': my_snkrs['Current Val (CAD)']}, index= my_snkrs['Model'])\n",
    "ax = df.plot.bar(rot=0)"
   ]
  },
  {
   "cell_type": "code",
   "execution_count": 80,
   "id": "d230a0b8",
   "metadata": {},
   "outputs": [
    {
     "name": "stdout",
     "output_type": "stream",
     "text": [
      "0     1500.0\n",
      "1      380.0\n",
      "2      380.0\n",
      "3      750.0\n",
      "4      410.0\n",
      "5      380.0\n",
      "6      330.0\n",
      "7      350.0\n",
      "8     1100.0\n",
      "9      775.0\n",
      "10     850.0\n",
      "11     790.0\n",
      "12     470.0\n",
      "13     470.0\n",
      "14     310.0\n",
      "15     310.0\n",
      "16     230.0\n",
      "17     200.0\n",
      "18     260.0\n",
      "19     200.0\n",
      "Name: Current Val (CAD), dtype: float64\n"
     ]
    }
   ],
   "source": [
    "print(val)"
   ]
  },
  {
   "cell_type": "code",
   "execution_count": 66,
   "id": "05a97b35",
   "metadata": {},
   "outputs": [
    {
     "data": {
      "image/png": "[encoded data removed]",
      "text/plain": [
       "<Figure size 432x288 with 1 Axes>"
      ]
     },
     "metadata": {
      "needs_background": "light"
     },
     "output_type": "display_data"
    }
   ],
   "source": [
    "\n",
    "ax = my_snkrs.plot.bar(x=\"Model\", y=\"Profit\")\n"
   ]
  },
  {
   "cell_type": "code",
   "execution_count": null,
   "id": "4ed08c6e",
   "metadata": {},
   "outputs": [],
   "source": []
  }
 ],
 "metadata": {
  "kernelspec": {
   "display_name": "Python 3",
   "language": "python",
   "name": "python3"
  },
  "language_info": {
   "codemirror_mode": {
    "name": "ipython",
    "version": 3
   },
   "file_extension": ".py",
   "mimetype": "text/x-python",
   "name": "python",
   "nbconvert_exporter": "python",
   "pygments_lexer": "ipython3",
   "version": "3.9.4"
  }
 },
 "nbformat": 4,
 "nbformat_minor": 5
}
